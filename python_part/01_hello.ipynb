{
 "cells": [
  {
   "cell_type": "code",
   "execution_count": 36,
   "metadata": {},
   "outputs": [
    {
     "output_type": "stream",
     "name": "stdout",
     "text": [
      "hello world\n"
     ]
    }
   ],
   "source": [
    "print(\"hello world\")"
   ]
  },
  {
   "cell_type": "code",
   "execution_count": 37,
   "metadata": {},
   "outputs": [
    {
     "output_type": "stream",
     "name": "stdout",
     "text": [
      "你的名字是：1234567\n"
     ]
    }
   ],
   "source": [
    "name=input(\"你的名字是？\\n\")\n",
    "print('你的名字是：'+name)"
   ]
  },
  {
   "source": [
    "七舅老爷=\"139123456789\"\n",
    "print(七舅老爷)"
   ],
   "cell_type": "code",
   "metadata": {},
   "execution_count": 39,
   "outputs": [
    {
     "output_type": "stream",
     "name": "stdout",
     "text": [
      "139123456789\n"
     ]
    }
   ]
  },
  {
   "cell_type": "code",
   "execution_count": 41,
   "metadata": {},
   "outputs": [
    {
     "output_type": "stream",
     "name": "stdout",
     "text": [
      "['139123456789', '137123456789', '138123456789', '136123456789']\n"
     ]
    }
   ],
   "source": [
    "七舅老爷=\"139123456789\"\n",
    "韩梅梅='137123456789'\n",
    "张小明='138123456789'\n",
    "李雷='136123456789'\n",
    "通讯录=[七舅老爷,韩梅梅,张小明,李雷]\n",
    "print(通讯录)"
   ]
  },
  {
   "cell_type": "code",
   "execution_count": null,
   "metadata": {},
   "outputs": [],
   "source": []
  }
 ],
 "metadata": {
  "kernelspec": {
   "name": "python3",
   "display_name": "Python 3.7.8 64-bit",
   "metadata": {
    "interpreter": {
     "hash": "57baa5815c940fdaff4d14510622de9616cae602444507ba5d0b6727c008cbd6"
    }
   }
  }
 },
 "nbformat": 4,
 "nbformat_minor": 5
}