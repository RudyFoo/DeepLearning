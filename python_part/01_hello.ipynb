{
 "cells": [
  {
   "cell_type": "code",
   "execution_count": 47,
   "metadata": {},
   "outputs": [
    {
     "output_type": "stream",
     "name": "stdout",
     "text": [
      "hello world\n"
     ]
    }
   ],
   "source": [
    "print(\"hello world\")"
   ]
  },
  {
   "cell_type": "code",
   "execution_count": 67,
   "metadata": {},
   "outputs": [
    {
     "output_type": "stream",
     "name": "stdout",
     "text": [
      "你的名字是：123456\n"
     ]
    }
   ],
   "source": [
    "name=input(\"你的名字是？\\n\")\n",
    "print('你的名字是：'+name)"
   ]
  },
  {
   "source": [
    "七舅老爷=\"139123456789\"\n",
    "print(七舅老爷)"
   ],
   "cell_type": "code",
   "metadata": {},
   "execution_count": 51,
   "outputs": [
    {
     "output_type": "stream",
     "name": "stdout",
     "text": [
      "139123456789\n"
     ]
    }
   ]
  },
  {
   "cell_type": "code",
   "execution_count": 52,
   "metadata": {},
   "outputs": [
    {
     "output_type": "stream",
     "name": "stdout",
     "text": [
      "['139123456789', '137123456789', '138123456789', '136123456789']\n"
     ]
    }
   ],
   "source": [
    "七舅老爷=\"139123456789\"\n",
    "韩梅梅='137123456789'\n",
    "张小明='138123456789'\n",
    "李雷='136123456789'\n",
    "通讯录=[七舅老爷,韩梅梅,张小明,李雷]\n",
    "print(通讯录)"
   ]
  },
  {
   "cell_type": "code",
   "execution_count": 64,
   "metadata": {},
   "outputs": [
    {
     "output_type": "stream",
     "name": "stdout",
     "text": [
      "139123456789\n137123456789\n138123456789\n136123456789\n"
     ]
    }
   ],
   "source": [
    "七舅老爷=\"139123456789\"\n",
    "韩梅梅='137123456789'\n",
    "张小明='138123456789'\n",
    "李雷='136123456789'\n",
    "通讯录=[七舅老爷,韩梅梅,张小明,李雷]\n",
    "for 手机号 in 通讯录:\n",
    "    print(手机号)"
   ]
  },
  {
   "cell_type": "code",
   "execution_count": 66,
   "metadata": {},
   "outputs": [
    {
     "output_type": "stream",
     "name": "stdout",
     "text": [
      "发送给139123456789,尊敬的李老师,学生xxx祝您新年快乐！\n发送给131123456789,尊敬的张老师,学生xxx祝您新年快乐！\n"
     ]
    }
   ],
   "source": [
    "李老师={'称呼':'李老师','手机号':'139123456789'}\n",
    "张老师={'称呼':'张老师','手机号':'131123456789'}\n",
    "通讯录=[李老师,张老师]\n",
    "for 手机 in 通讯录:\n",
    "    print('发送给'+ 手机['手机号']+',尊敬的'+手机['称呼']+',学生xxx祝您新年快乐！')"
   ]
  },
  {
   "cell_type": "code",
   "execution_count": null,
   "metadata": {},
   "outputs": [],
   "source": []
  }
 ],
 "metadata": {
  "kernelspec": {
   "name": "python3",
   "display_name": "Python 3.7.8 64-bit",
   "metadata": {
    "interpreter": {
     "hash": "57baa5815c940fdaff4d14510622de9616cae602444507ba5d0b6727c008cbd6"
    }
   }
  }
 },
 "nbformat": 4,
 "nbformat_minor": 5
}